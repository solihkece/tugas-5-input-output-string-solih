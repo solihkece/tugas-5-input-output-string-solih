{
 "cells": [
  {
   "cell_type": "code",
   "execution_count": 1,
   "id": "be742e06-8bf6-4454-901f-4b3bc42801fa",
   "metadata": {},
   "outputs": [
    {
     "name": "stdin",
     "output_type": "stream",
     "text": [
      "Masukkan nama:  solih\n",
      "Masukkan tempat lahir:  sukabumi\n",
      "Masukkan tanggal lahir:  01-08-2004\n",
      "Masukkan alamat:  sukatengah\n",
      "Masukkan nama SD:  sukatengah\n",
      "Masukkan nama SMP:  mts generasi\n",
      "Masukkan nama SMA:  SMAN 1 CIRACAP\n"
     ]
    },
    {
     "name": "stdout",
     "output_type": "stream",
     "text": [
      "** Biodata Sederhana **\n",
      "Nama: solih\n",
      "Tempat Lahir: sukabumi\n",
      "Tanggal Lahir: 01-08-2004\n",
      "Alamat: sukatengah\n",
      "Pendidikan:\n",
      "* sukatengah\n",
      "* mts generasi\n",
      "* SMAN 1 CIRACAP\n"
     ]
    }
   ],
   "source": [
    "nama = input(\"Masukkan nama: \")\n",
    "tempat_lahir = input(\"Masukkan tempat lahir: \")\n",
    "tanggal_lahir = input(\"Masukkan tanggal lahir: \")\n",
    "alamat = input(\"Masukkan alamat: \")\n",
    "SD = input(\"Masukkan nama SD: \")\n",
    "SMP = input(\"Masukkan nama SMP: \")\n",
    "SMA = input(\"Masukkan nama SMA: \")\n",
    "\n",
    "print(\"** Biodata Sederhana **\")\n",
    "print(\"Nama:\", nama)\n",
    "print(\"Tempat Lahir:\", tempat_lahir)\n",
    "print(\"Tanggal Lahir:\", tanggal_lahir)\n",
    "print(\"Alamat:\", alamat)\n",
    "print(\"Pendidikan:\")\n",
    "print(\"*\", SD)\n",
    "print(\"*\", SMP)\n",
    "print(\"*\", SMA)"
   ]
  },
  {
   "cell_type": "code",
   "execution_count": 2,
   "id": "ad44a5c5-ed3f-4040-8b80-ef9c6f6a4dd2",
   "metadata": {},
   "outputs": [
    {
     "name": "stdout",
     "output_type": "stream",
     "text": [
      "a. putra nusa\n",
      "b. NIVERSITAS NSA PTRA SKABMI\n",
      "c. SUKABUMI PUTRA NUSA UNIVERSITAS\n",
      "d. UNPS\n",
      "e. TAS SAPU BUMI\n"
     ]
    }
   ],
   "source": [
    "kalimat = \"UNIVERSITAS NUSA PUTRA SUKABUMI\"\n",
    "\n",
    "# a. putra nusa\n",
    "kata1 = kalimat.split()[2]\n",
    "kata2 = kalimat.split()[1]\n",
    "print(f\"a. {kata1.lower()} {kata2.lower()}\")\n",
    "\n",
    "# b. NIVERSITAS NSA PTRA SKABMI\n",
    "kata3 = kalimat[1:11]\n",
    "kata4 = kalimat[12]\n",
    "kata5 = kalimat[14:16]\n",
    "kata6 = kalimat[17]\n",
    "kata7 = kalimat[19:22]\n",
    "kata8 = kalimat[23]\n",
    "kata9 = kalimat[25:28]\n",
    "kata10 = kalimat[29:31]\n",
    "print(f\"b. {kata3} {kata4}{kata5} {kata6}{kata7} {kata8}{kata9}{kata10}\")\n",
    "\n",
    "# c. SUKABUMI PUTRA NUSA UNIVERSITAS\n",
    "kata11 = kalimat.split()[3]\n",
    "kata12 = kalimat.split()[2]\n",
    "kata13 = kalimat.split()[1]\n",
    "kata14 = kalimat.split()[0]\n",
    "print(f\"c. {kata11} {kata12} {kata13} {kata14}\")\n",
    "\n",
    "# d. UNPS\n",
    "kata15 = kalimat[0]\n",
    "kata16 = kalimat[12]\n",
    "kata17 = kalimat[17]\n",
    "kata18 = kalimat[23]\n",
    "print(f\"d. {kata15}{kata16}{kata17}{kata18}\")\n",
    "\n",
    "# e. TAS SAPU BUMI\n",
    "kata19 = kalimat[8:11]\n",
    "kata20 = kalimat[14:16]\n",
    "kata21 = kalimat[17:19]\n",
    "kata22 = kalimat[27:31]\n",
    "print(f\"e. {kata19} {kata20}{kata21} {kata22}\")"
   ]
  },
  {
   "cell_type": "code",
   "execution_count": null,
   "id": "75d22505-0c57-4421-9a1b-1a31a73dd2d7",
   "metadata": {},
   "outputs": [],
   "source": []
  }
 ],
 "metadata": {
  "kernelspec": {
   "display_name": "Python 3 (ipykernel)",
   "language": "python",
   "name": "python3"
  },
  "language_info": {
   "codemirror_mode": {
    "name": "ipython",
    "version": 3
   },
   "file_extension": ".py",
   "mimetype": "text/x-python",
   "name": "python",
   "nbconvert_exporter": "python",
   "pygments_lexer": "ipython3",
   "version": "3.11.7"
  }
 },
 "nbformat": 4,
 "nbformat_minor": 5
}
